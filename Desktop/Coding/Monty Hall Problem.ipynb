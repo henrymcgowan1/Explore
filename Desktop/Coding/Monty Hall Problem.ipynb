{
 "cells": [
  {
   "cell_type": "code",
   "execution_count": 160,
   "id": "7c4c57a0",
   "metadata": {},
   "outputs": [],
   "source": [
    "import numpy as np\n"
   ]
  },
  {
   "cell_type": "code",
   "execution_count": 174,
   "id": "ba3f4143",
   "metadata": {},
   "outputs": [],
   "source": [
    "# play a game n times where the car is hidden in the 3rd door \n",
    "vector = [0, 0, 1]\n",
    "n_simulations = 100000\n",
    "\n",
    "# counters\n",
    "original_door = 0\n",
    "switch_doors = 0\n",
    "\n",
    "for i in range(n_simulations):   \n",
    "    # random pick of door\n",
    "    door_n = np.random.randint(0, 3)\n",
    "    original_choice = vector[door_n]\n",
    "   \n",
    "    # create dummy vector to represent Monty's choice so he can't pick the same door\n",
    "    vector_dummy = vector.copy()\n",
    "    \n",
    "    # take out random choice from Monty's set \n",
    "    del vector_dummy[door_n]\n",
    "\n",
    "    # Monty's criteria for choosing - he picks one that is not the car\n",
    "    if sum(vector_dummy) > 0:\n",
    "        for i in vector_dummy:\n",
    "            if i == 0:\n",
    "                del vector_dummy[i]\n",
    "    elif sum(vector_dummy) == 0:\n",
    "            index = np.random.randint(0, 2)\n",
    "            del vector_dummy[index]\n",
    "\n",
    "\n",
    "    # compute expected value\n",
    "    original_door += original_choice\n",
    "    switch_doors  += vector_dummy[0]\n",
    "    \n",
    "    "
   ]
  },
  {
   "cell_type": "code",
   "execution_count": 175,
   "id": "61d9187a",
   "metadata": {},
   "outputs": [
    {
     "name": "stdout",
     "output_type": "stream",
     "text": [
      "Expected value original door: 0.3333098\n",
      "Expected value switch door: 0.6666902\n"
     ]
    }
   ],
   "source": [
    "print('Expected value original door: ' + str(original_door / n_simulations))\n",
    "print('Expected value switch door: ' +   str(switch_doors / n_simulations))\n",
    "\n"
   ]
  },
  {
   "cell_type": "code",
   "execution_count": 153,
   "id": "f0c03ce1",
   "metadata": {},
   "outputs": [
    {
     "data": {
      "text/plain": [
       "[0, 0, 1]"
      ]
     },
     "execution_count": 153,
     "metadata": {},
     "output_type": "execute_result"
    }
   ],
   "source": [
    "vector.copy()\n"
   ]
  }
 ],
 "metadata": {
  "kernelspec": {
   "display_name": "Python 3 (ipykernel)",
   "language": "python",
   "name": "python3"
  },
  "language_info": {
   "codemirror_mode": {
    "name": "ipython",
    "version": 3
   },
   "file_extension": ".py",
   "mimetype": "text/x-python",
   "name": "python",
   "nbconvert_exporter": "python",
   "pygments_lexer": "ipython3",
   "version": "3.9.12"
  }
 },
 "nbformat": 4,
 "nbformat_minor": 5
}
