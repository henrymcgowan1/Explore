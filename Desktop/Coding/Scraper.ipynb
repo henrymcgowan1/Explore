{
 "cells": [
  {
   "cell_type": "code",
   "execution_count": 1,
   "id": "40ce4ba0",
   "metadata": {},
   "outputs": [],
   "source": [
    "from bs4 import BeautifulSoup as bs\n",
    "import requests\n",
    "from requests import Session\n",
    "from selenium import webdriver\n",
    "\n",
    "url = 'https://www.craigslist.org/search'\n",
    "\n",
    "config = {\n",
    "    'url': 'cta',\n",
    "    'attributes': {\n",
    "        'search_distance': 8,\n",
    "         'postal': 10012,\n",
    "         'min_price': 750,\n",
    "         'max_price': '',\n",
    "         'min_auto_year': 2002,\n",
    "         'min_auto_miles': 1000\n",
    "    }\n",
    "}\n",
    "    \n",
    "def create_url(url_config, url):\n",
    "    query_string = ''\n",
    "    for key, val in config['attributes'].items():\n",
    "        query_string += \"{k}={v}\".format(k=key, v=val) + '&'\n",
    "    return url + '/' + config['url'] + '?' + query_string\n",
    "\n",
    "auto_url = create_url(config, url)\n",
    "\n",
    "    \n",
    "# '/cta?search_distance=8&postal=22904&min_price=750&max_price=&min_auto_year=2008&min_auto_miles=1000'\n",
    "\n"
   ]
  },
  {
   "cell_type": "code",
   "execution_count": 2,
   "id": "514e550d",
   "metadata": {},
   "outputs": [
    {
     "ename": "TypeError",
     "evalue": "object of type 'Response' has no len()",
     "output_type": "error",
     "traceback": [
      "\u001b[0;31m---------------------------------------------------------------------------\u001b[0m",
      "\u001b[0;31mTypeError\u001b[0m                                 Traceback (most recent call last)",
      "Input \u001b[0;32mIn [2]\u001b[0m, in \u001b[0;36m<cell line: 18>\u001b[0;34m()\u001b[0m\n\u001b[1;32m      2\u001b[0m doc \u001b[38;5;241m=\u001b[39m requests\u001b[38;5;241m.\u001b[39mget(auto_url, headers \u001b[38;5;241m=\u001b[39m {\n\u001b[1;32m      3\u001b[0m              \u001b[38;5;124m'\u001b[39m\u001b[38;5;124mUser-Agent\u001b[39m\u001b[38;5;124m'\u001b[39m:\n\u001b[1;32m      4\u001b[0m              \u001b[38;5;124m'\u001b[39m\u001b[38;5;124mMozilla/5.0 (X11; Linux x86_64; rv:91.0) \u001b[39m\u001b[38;5;124m'\u001b[39m\n\u001b[0;32m   (...)\u001b[0m\n\u001b[1;32m      7\u001b[0m              \u001b[38;5;124m'\u001b[39m\u001b[38;5;124mAccept\u001b[39m\u001b[38;5;124m'\u001b[39m: \u001b[38;5;124m'\u001b[39m\u001b[38;5;124mtext/html,application/xhtml+xml\u001b[39m\u001b[38;5;124m'\u001b[39m\n\u001b[1;32m      8\u001b[0m          })\n\u001b[1;32m     10\u001b[0m \u001b[38;5;66;03m# doc = get(auto_url, headers = {\u001b[39;00m\n\u001b[1;32m     11\u001b[0m \u001b[38;5;66;03m#             'User-Agent':\u001b[39;00m\n\u001b[1;32m     12\u001b[0m \u001b[38;5;66;03m#             'Mozilla/5.0 (X11; Linux x86_64; rv:91.0) '\u001b[39;00m\n\u001b[0;32m   (...)\u001b[0m\n\u001b[1;32m     15\u001b[0m \u001b[38;5;66;03m#             'Accept': 'text/html,application/xhtml+xml'\u001b[39;00m\n\u001b[1;32m     16\u001b[0m \u001b[38;5;66;03m#         })\u001b[39;00m\n\u001b[0;32m---> 18\u001b[0m soup \u001b[38;5;241m=\u001b[39m \u001b[43mbs\u001b[49m\u001b[43m(\u001b[49m\u001b[43mdoc\u001b[49m\u001b[43m,\u001b[49m\u001b[43m \u001b[49m\u001b[38;5;124;43m\"\u001b[39;49m\u001b[38;5;124;43mhtml.parser\u001b[39;49m\u001b[38;5;124;43m\"\u001b[39;49m\u001b[43m)\u001b[49m\n\u001b[1;32m     19\u001b[0m \u001b[38;5;28mprint\u001b[39m(soup)\n",
      "File \u001b[0;32m~/opt/anaconda3/lib/python3.9/site-packages/bs4/__init__.py:313\u001b[0m, in \u001b[0;36mBeautifulSoup.__init__\u001b[0;34m(self, markup, features, builder, parse_only, from_encoding, exclude_encodings, element_classes, **kwargs)\u001b[0m\n\u001b[1;32m    311\u001b[0m \u001b[38;5;28;01mif\u001b[39;00m \u001b[38;5;28mhasattr\u001b[39m(markup, \u001b[38;5;124m'\u001b[39m\u001b[38;5;124mread\u001b[39m\u001b[38;5;124m'\u001b[39m):        \u001b[38;5;66;03m# It's a file-type object.\u001b[39;00m\n\u001b[1;32m    312\u001b[0m     markup \u001b[38;5;241m=\u001b[39m markup\u001b[38;5;241m.\u001b[39mread()\n\u001b[0;32m--> 313\u001b[0m \u001b[38;5;28;01melif\u001b[39;00m \u001b[38;5;28;43mlen\u001b[39;49m\u001b[43m(\u001b[49m\u001b[43mmarkup\u001b[49m\u001b[43m)\u001b[49m \u001b[38;5;241m<\u001b[39m\u001b[38;5;241m=\u001b[39m \u001b[38;5;241m256\u001b[39m \u001b[38;5;129;01mand\u001b[39;00m (\n\u001b[1;32m    314\u001b[0m         (\u001b[38;5;28misinstance\u001b[39m(markup, \u001b[38;5;28mbytes\u001b[39m) \u001b[38;5;129;01mand\u001b[39;00m \u001b[38;5;129;01mnot\u001b[39;00m \u001b[38;5;124mb\u001b[39m\u001b[38;5;124m'\u001b[39m\u001b[38;5;124m<\u001b[39m\u001b[38;5;124m'\u001b[39m \u001b[38;5;129;01min\u001b[39;00m markup)\n\u001b[1;32m    315\u001b[0m         \u001b[38;5;129;01mor\u001b[39;00m (\u001b[38;5;28misinstance\u001b[39m(markup, \u001b[38;5;28mstr\u001b[39m) \u001b[38;5;129;01mand\u001b[39;00m \u001b[38;5;129;01mnot\u001b[39;00m \u001b[38;5;124m'\u001b[39m\u001b[38;5;124m<\u001b[39m\u001b[38;5;124m'\u001b[39m \u001b[38;5;129;01min\u001b[39;00m markup)\n\u001b[1;32m    316\u001b[0m ):\n\u001b[1;32m    317\u001b[0m     \u001b[38;5;66;03m# Issue warnings for a couple beginner problems\u001b[39;00m\n\u001b[1;32m    318\u001b[0m     \u001b[38;5;66;03m# involving passing non-markup to Beautiful Soup.\u001b[39;00m\n\u001b[1;32m    319\u001b[0m     \u001b[38;5;66;03m# Beautiful Soup will still parse the input as markup,\u001b[39;00m\n\u001b[1;32m    320\u001b[0m     \u001b[38;5;66;03m# since that is sometimes the intended behavior.\u001b[39;00m\n\u001b[1;32m    321\u001b[0m     \u001b[38;5;28;01mif\u001b[39;00m \u001b[38;5;129;01mnot\u001b[39;00m \u001b[38;5;28mself\u001b[39m\u001b[38;5;241m.\u001b[39m_markup_is_url(markup):\n\u001b[1;32m    322\u001b[0m         \u001b[38;5;28mself\u001b[39m\u001b[38;5;241m.\u001b[39m_markup_resembles_filename(markup)                \n",
      "\u001b[0;31mTypeError\u001b[0m: object of type 'Response' has no len()"
     ]
    }
   ],
   "source": [
    "#driver = webdriver.Firefox(executable_path = '/Users/henry.mcgowan/geckodriver')\n",
    "doc = requests.get(auto_url, headers = {\n",
    "             'User-Agent':\n",
    "             'Mozilla/5.0 (X11; Linux x86_64; rv:91.0) '\n",
    "            'Gecko/20100101 '\n",
    "            'Firefox/91.0',\n",
    "             'Accept': 'text/html,application/xhtml+xml'\n",
    "         })\n",
    "\n",
    "# doc = get(auto_url, headers = {\n",
    "#             'User-Agent':\n",
    "#             'Mozilla/5.0 (X11; Linux x86_64; rv:91.0) '\n",
    "#             'Gecko/20100101 '\n",
    "#             'Firefox/91.0',\n",
    "#             'Accept': 'text/html,application/xhtml+xml'\n",
    "#         })\n",
    "\n",
    "soup = bs(doc, \"html.parser\")\n",
    "print(soup)\n",
    "\n"
   ]
  },
  {
   "cell_type": "code",
   "execution_count": 14,
   "id": "d25041c3",
   "metadata": {},
   "outputs": [
    {
     "data": {
      "text/plain": [
       "'https://www.craigslist.org/search/cta?search_distance=8&postal=10012&min_price=750&max_price=&min_auto_year=2002&min_auto_miles=1000&'"
      ]
     },
     "execution_count": 14,
     "metadata": {},
     "output_type": "execute_result"
    }
   ],
   "source": [
    "auto_url"
   ]
  },
  {
   "cell_type": "code",
   "execution_count": null,
   "id": "e2637d01",
   "metadata": {},
   "outputs": [],
   "source": []
  }
 ],
 "metadata": {
  "kernelspec": {
   "display_name": "Python 3 (ipykernel)",
   "language": "python",
   "name": "python3"
  },
  "language_info": {
   "codemirror_mode": {
    "name": "ipython",
    "version": 3
   },
   "file_extension": ".py",
   "mimetype": "text/x-python",
   "name": "python",
   "nbconvert_exporter": "python",
   "pygments_lexer": "ipython3",
   "version": "3.9.12"
  }
 },
 "nbformat": 4,
 "nbformat_minor": 5
}
