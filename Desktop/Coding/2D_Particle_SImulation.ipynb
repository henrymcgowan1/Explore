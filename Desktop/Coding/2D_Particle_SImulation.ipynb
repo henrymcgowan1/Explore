{
 "cells": [
  {
   "cell_type": "code",
   "execution_count": 1,
   "id": "6fea6efd",
   "metadata": {},
   "outputs": [],
   "source": [
    "#%matplotlib notebook\n",
    "import pandas as pd\n",
    "import numpy as np\n",
    "import matplotlib.pyplot as plt\n",
    "import matplotlib.animation as anm\n",
    "%matplotlib tk\n"
   ]
  },
  {
   "cell_type": "code",
   "execution_count": null,
   "id": "1230985f",
   "metadata": {},
   "outputs": [],
   "source": [
    "# to create a contained space with random particle movement, you need:\n",
    "# 1. a container - viewed from the side, a rectangle - can use the bounds of x and y to create area\n",
    "# 2. number of particles. m / v = density. need to random generate coordinates x and y coordinates for n particles\n",
    "# 3. need a function to determine new coordinates at random\n",
    "\n"
   ]
  },
  {
   "cell_type": "code",
   "execution_count": 54,
   "id": "04245a7b",
   "metadata": {},
   "outputs": [
    {
     "data": {
      "text/plain": [
       "<matplotlib.collections.PathCollection at 0x7fb64d1d78b0>"
      ]
     },
     "execution_count": 54,
     "metadata": {},
     "output_type": "execute_result"
    }
   ],
   "source": [
    "# create a simple case of \"particles \"in a container space\n",
    "n = 1000\n",
    "x, y, s = np.random.randint(low = 0, high = 500, size = n), np.random.randint(low = 0, high = 500, size = n), np.random.randint(low = 1, high = 6, size = n)\n",
    "\n",
    "plt.figure(figsize = (8,8))\n",
    "plt.scatter(x, y)"
   ]
  },
  {
   "cell_type": "code",
   "execution_count": 49,
   "id": "62695980",
   "metadata": {},
   "outputs": [],
   "source": [
    "# add in a function that adjusts the coordinates of x and y\n",
    "def update(x0, y0, stepsize = 1):\n",
    "    x1 = [i + np.random.randint(low = -stepsize, high = stepsize + 1) for i in x0]\n",
    "    y1 = [i + np.random.randint(low = -stepsize, high = stepsize + 1) for i in y0]\n",
    "    \n",
    "    x, y = off_the_walls(x1, y1)\n",
    "    \n",
    "    return x, y\n",
    "\n",
    "# function to bounce balls off the wall\n",
    "def off_the_walls(x0, y0, x_upper = 300, x_lower = 0, y_upper = 300, y_lower = 0):\n",
    "\n",
    "    x1 = []\n",
    "    y1 = []\n",
    "    \n",
    "    for x, y in zip(x0, y0):\n",
    "        if x > x_upper:\n",
    "            x = x_upper - (x - x_upper)\n",
    "        if x < x_lower:\n",
    "            x = x_lower - x\n",
    "        if y > y_upper:\n",
    "            y = y_upper - (y - y_upper)\n",
    "        if y < y_lower:\n",
    "            y = y_lower - y \n",
    "        else:\n",
    "            x = x\n",
    "            y = y\n",
    "        x1.append(x)\n",
    "        y1.append(y)\n",
    "        \n",
    "    return x1, y1\n",
    "        "
   ]
  },
  {
   "cell_type": "code",
   "execution_count": 14,
   "id": "965d3878",
   "metadata": {},
   "outputs": [],
   "source": [
    "# SCRAP THIS\n",
    "# add in n updates with particle taking random steps of size \n",
    "n = 500\n",
    "x0, y0 = np.random.randint(low = 0, high = 500, size = n), np.random.randint(low = 0, high = 500, size = n)\n",
    "\n",
    "\n",
    "def init():\n",
    "    line.set_data([], [])\n",
    "    return line,\n",
    "\n",
    "def simulate(sims):\n",
    "    n = 500\n",
    "    x0, y0 = np.random.randint(low = 0, high = 500, size = n), np.random.randint(low = 0, high = 500, size = n)\n",
    "    \n",
    "    for i in range(sims):\n",
    "        if i == 0:\n",
    "            xi, yi = x0, y0\n",
    "        else: \n",
    "            xi, yi = xi, yi\n",
    "            \n",
    "        xi, yi = update(xi, yi, stepsize = 10)\n",
    "        line.set_data(xi, yi)\n",
    "        ax.set_title('Particle Movement')\n",
    "        plt.scatter(line)\n"
   ]
  },
  {
   "cell_type": "code",
   "execution_count": 67,
   "id": "2abeed15",
   "metadata": {},
   "outputs": [],
   "source": [
    "# simulate random movement of indiviual \"particles\"\n",
    "figure = plt.figure(figsize = (8,8))\n",
    "ax = plt.axes(xlim=(-50, 550), ylim=(-50, 550)) \n",
    "\n",
    "n = 200\n",
    "x0, y0, s = np.random.randint(low = 0, high = 500, size = n), np.random.randint(low = 0, high = 500, size = n), np.random.randint(low = 10, high = 90, size = n)\n",
    "step_size = 5\n",
    "\n",
    "def simulate_2(i):\n",
    "    if i == 0:\n",
    "        ax.set_title('Particle Movement')\n",
    "        plt.cla()        \n",
    "        plt.scatter(x0, y0, s = s)\n",
    "    elif i == 1: \n",
    "        ax.set_title('Particle Movement')\n",
    "        global x1, y1        \n",
    "        x1, y1 = update(x0, y0, stepsize = step_size)  \n",
    "        plt.cla()\n",
    "        plt.scatter(x1, y1, s = s)\n",
    "    elif i > 1:\n",
    "        xi, yi = update(x1, y1, stepsize = step_size)     \n",
    "        ax.set_title('Particle Movement')\n",
    "        plt.cla()        \n",
    "        plt.scatter(xi, yi, s = s)\n"
   ]
  },
  {
   "cell_type": "code",
   "execution_count": 68,
   "id": "8456474b",
   "metadata": {},
   "outputs": [
    {
     "data": {
      "text/plain": [
       "<matplotlib.animation.FuncAnimation at 0x7fb64ce0e7c0>"
      ]
     },
     "execution_count": 68,
     "metadata": {},
     "output_type": "execute_result"
    }
   ],
   "source": [
    "figure = plt.figure(figsize = (8,8))\n",
    "ax = plt.axes(xlim=(-50, 550), ylim=(-50, 550)) \n",
    "\n",
    "anm.FuncAnimation(figure, func=simulate_2, init_func = init, frames = 800)\n"
   ]
  },
  {
   "cell_type": "code",
   "execution_count": null,
   "id": "ad94215d",
   "metadata": {},
   "outputs": [],
   "source": [
    "# simulate collisions\n",
    "# to capture collisions we need the mass and velocity. the law of conservation of momentum\n",
    "# states that the momentum (m * v) is equal after a collision to before the collision\n",
    "# we need the formula for force of the collision and to project the direction the new particle will go in\n",
    "# what defines a collision? landing on the same x-y coordinates?\n",
    "\n",
    "def collision():\n",
    "    # velocity vector\n",
    "    # \n",
    "\n",
    "\n"
   ]
  },
  {
   "cell_type": "code",
   "execution_count": null,
   "id": "5e338668",
   "metadata": {},
   "outputs": [],
   "source": [
    "def simulate_3(i):\n",
    "    if i == 0:\n",
    "        ax.set_title('Particle Movement')\n",
    "        plt.cla()        \n",
    "        plt.scatter(x0, y0, s = s)\n",
    "    elif i == 1: \n",
    "        ax.set_title('Particle Movement')\n",
    "        global x1, y1        \n",
    "        x1, y1 = update(x0, y0, stepsize = step_size)  \n",
    "        plt.cla()        \n",
    "        plt.scatter(x1, y1, s = s)\n",
    "    elif i > 1:\n",
    "        xi, yi = update(x1, y1, stepsize = step_size)     \n",
    "        ax.set_title('Particle Movement')\n",
    "        plt.cla()        \n",
    "        plt.scatter(xi, yi, s = s)\n"
   ]
  },
  {
   "cell_type": "code",
   "execution_count": 192,
   "id": "7d5ae3cb",
   "metadata": {},
   "outputs": [],
   "source": [
    "class Vehicle:\n",
    "    # any variable/attribute defined outside of  is a Class variable\n",
    "    def __init__(self, s, x, y):\n",
    "        # all variables defined in __init__ are instance variables - specific to a case\n",
    "        self.size = s\n",
    "        self.position = x, y\n",
    "        self.velocity = np.random.randint(low = 0, high = 5, size = 1)\n",
    "        self.doors = [1, 0, 0, 1]\n",
    "        \n",
    "    def drive(self, i, e):\n",
    "        self.position = self.position[0] + i, self.position[1] + e\n",
    "    \n",
    "    def open_close_door(self, door, dv):\n",
    "        if dv not in [0, 1]:\n",
    "            print('Not permitted')\n",
    "        else:\n",
    "            self.doors[door] = dv\n",
    "\n",
    "class Bus(Vehicle):\n",
    "    # the super() method calls in methods from a parent class\n",
    "    pass"
   ]
  },
  {
   "cell_type": "code",
   "execution_count": 195,
   "id": "b4b888e2",
   "metadata": {},
   "outputs": [],
   "source": [
    "example = Vehicle(10, 3, 4)\n",
    "example.drive(-5,10)"
   ]
  },
  {
   "cell_type": "code",
   "execution_count": 196,
   "id": "9dfe7a32",
   "metadata": {},
   "outputs": [
    {
     "data": {
      "text/plain": [
       "(-2, 14)"
      ]
     },
     "execution_count": 196,
     "metadata": {},
     "output_type": "execute_result"
    }
   ],
   "source": [
    "example.position"
   ]
  },
  {
   "cell_type": "code",
   "execution_count": 197,
   "id": "01eea1ff",
   "metadata": {},
   "outputs": [
    {
     "data": {
      "text/plain": [
       "[1, 0, 0, 1]"
      ]
     },
     "execution_count": 197,
     "metadata": {},
     "output_type": "execute_result"
    }
   ],
   "source": [
    "example.doors"
   ]
  },
  {
   "cell_type": "code",
   "execution_count": 201,
   "id": "1f0c020c",
   "metadata": {},
   "outputs": [],
   "source": [
    "example.open_close_door(0, 0)"
   ]
  },
  {
   "cell_type": "code",
   "execution_count": 202,
   "id": "493616b9",
   "metadata": {},
   "outputs": [
    {
     "data": {
      "text/plain": [
       "[0, 0, 0, 1]"
      ]
     },
     "execution_count": 202,
     "metadata": {},
     "output_type": "execute_result"
    }
   ],
   "source": [
    "example.doors"
   ]
  },
  {
   "cell_type": "code",
   "execution_count": null,
   "id": "63b0b236",
   "metadata": {},
   "outputs": [],
   "source": []
  },
  {
   "cell_type": "code",
   "execution_count": null,
   "id": "74700588",
   "metadata": {},
   "outputs": [],
   "source": []
  }
 ],
 "metadata": {
  "kernelspec": {
   "display_name": "Python 3 (ipykernel)",
   "language": "python",
   "name": "python3"
  },
  "language_info": {
   "codemirror_mode": {
    "name": "ipython",
    "version": 3
   },
   "file_extension": ".py",
   "mimetype": "text/x-python",
   "name": "python",
   "nbconvert_exporter": "python",
   "pygments_lexer": "ipython3",
   "version": "3.9.12"
  }
 },
 "nbformat": 4,
 "nbformat_minor": 5
}
