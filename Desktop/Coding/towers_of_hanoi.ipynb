{
 "cells": [
  {
   "cell_type": "code",
   "execution_count": 119,
   "id": "04c7a261",
   "metadata": {},
   "outputs": [],
   "source": [
    "import numpy as np"
   ]
  },
  {
   "cell_type": "code",
   "execution_count": 108,
   "id": "16751e2f",
   "metadata": {},
   "outputs": [],
   "source": [
    "towers_start = [[1, 2, 3], [], []]"
   ]
  },
  {
   "cell_type": "code",
   "execution_count": 109,
   "id": "6a20182e",
   "metadata": {},
   "outputs": [],
   "source": [
    "# rules \n",
    "# 1. one disk at a time\n",
    "# 2. must take upper disks\n",
    "# 3. a disk can't be placed on a smaller disk\n",
    "\n",
    "\n",
    "def take_place_disk(towers, start_t, place_t):\n",
    "    first_element = towers[start_t][0]\n",
    "    towers[start_t].remove(first_element)\n",
    "    towers[place_t].insert(0, first_element)\n",
    "    if len(towers[place_t]) > 1:\n",
    "        if towers[place_t][0] > towers[place_t][1]:\n",
    "            print('break')\n",
    "    return towers\n",
    "    "
   ]
  },
  {
   "cell_type": "code",
   "execution_count": 110,
   "id": "b359197f",
   "metadata": {},
   "outputs": [],
   "source": [
    "# stupid solution\n",
    "def solve_hanoi(towers_start):\n",
    "    if len(towers_start[0]) == 3:\n",
    "        move_1 = take_place_disk(towers_start, 0, 2)\n",
    "        move_2 = take_place_disk(move_1, 0, 1)\n",
    "        move_3 = take_place_disk(move_2, 2, 1)\n",
    "        move_4 = take_place_disk(move_3, 0, 2)\n",
    "        move_5 = take_place_disk(move_4, 1, 0)        \n",
    "        move_6 = take_place_disk(move_5, 1, 2)        \n",
    "        move_7 = take_place_disk(move_6, 0, 2)                \n",
    "    return move_7\n",
    "\n",
    "    "
   ]
  },
  {
   "cell_type": "code",
   "execution_count": 111,
   "id": "8e0b76bd",
   "metadata": {},
   "outputs": [
    {
     "data": {
      "text/plain": [
       "[[], [], [1, 2, 3]]"
      ]
     },
     "execution_count": 111,
     "metadata": {},
     "output_type": "execute_result"
    }
   ],
   "source": [
    "solve_hanoi(towers_start)"
   ]
  },
  {
   "cell_type": "code",
   "execution_count": 113,
   "id": "6d599950",
   "metadata": {},
   "outputs": [],
   "source": [
    "# write an algorithm to solve the towers of hanoi\n",
    "# criteria:\n",
    "# make one movement, move to an open space or on top of a larger disk\n",
    "\n",
    "count_moves = 0\n",
    "\n",
    "#move where disk_t > disk_m, dont move where disk m > disk t\n",
    "\n",
    "a = [1, 2, 3, 4]\n",
    "b = []\n",
    "c = []\n",
    "\n",
    "options = [a, b, c]\n",
    "\n",
    "def tower_of_hanoi(N, 'A', 'B', 'C'):\n",
    "    if n == 0:\n",
    "        return\n",
    "    tower_of_hanoi(N - 1, )\n"
   ]
  },
  {
   "cell_type": "code",
   "execution_count": 120,
   "id": "251c3882",
   "metadata": {},
   "outputs": [
    {
     "data": {
      "text/plain": [
       "array([0, 1, 2, 3])"
      ]
     },
     "execution_count": 120,
     "metadata": {},
     "output_type": "execute_result"
    }
   ],
   "source": [
    "np.arange(4)"
   ]
  },
  {
   "cell_type": "code",
   "execution_count": null,
   "id": "9a68c288",
   "metadata": {},
   "outputs": [],
   "source": []
  }
 ],
 "metadata": {
  "kernelspec": {
   "display_name": "Python 3 (ipykernel)",
   "language": "python",
   "name": "python3"
  },
  "language_info": {
   "codemirror_mode": {
    "name": "ipython",
    "version": 3
   },
   "file_extension": ".py",
   "mimetype": "text/x-python",
   "name": "python",
   "nbconvert_exporter": "python",
   "pygments_lexer": "ipython3",
   "version": "3.9.12"
  }
 },
 "nbformat": 4,
 "nbformat_minor": 5
}
