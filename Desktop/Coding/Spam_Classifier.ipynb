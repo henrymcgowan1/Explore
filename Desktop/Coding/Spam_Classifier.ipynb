{
 "cells": [
  {
   "cell_type": "code",
   "execution_count": 13,
   "id": "ee801e27",
   "metadata": {},
   "outputs": [],
   "source": [
    "import numpy as np\n",
    "import pandas as pd\n",
    "import matplotlib.pyplot as plt\n",
    "import os\n",
    "import email\n",
    "import email.policy\n",
    "from collections import Counter\n",
    "from sklearn.model_selection import train_test_split"
   ]
  },
  {
   "cell_type": "code",
   "execution_count": 3,
   "id": "5be4f751",
   "metadata": {},
   "outputs": [],
   "source": [
    "downloads_path = '/Users/henry.mcgowan/Downloads/'\n",
    "folder = ['spam', 'easy_ham']\n",
    "# 'spam_2', 'hard_ham',  'spam 2', 'hard_ham 2', 'easy_ham 2'\n",
    "\n",
    "# get data set size \n",
    "file_names = {i: os.listdir(downloads_path + i) for i in folder}"
   ]
  },
  {
   "cell_type": "code",
   "execution_count": 122,
   "id": "0ba8513c",
   "metadata": {},
   "outputs": [],
   "source": [
    "# method 2\n",
    "import tarfile\n",
    "import os\n",
    "def fetch_spam_data():\n",
    "    spam_root = \"http://spamassassin.apache.org/old/publiccorpus/\"\n",
    "    ham_url = spam_root + \"20030228_easy_ham.tar.bz2\"\n",
    "    spam_url = spam_root + \"20030228_spam.tar.bz2\"\n",
    "\n",
    "    spam_path = Path() / \"datasets\" / \"spam\"\n",
    "    spam_path.mkdir(parents=True, exist_ok=True)\n",
    "    for dir_name, tar_name, url in ((\"easy_ham\", \"ham\", ham_url),\n",
    "                                    (\"spam\", \"spam\", spam_url)):\n",
    "        if not (spam_path / dir_name).is_dir():\n",
    "            path = (spam_path / tar_name).with_suffix(\".tar.bz2\")\n",
    "            print(\"Downloading\", path)\n",
    "            urllib.request.urlretrieve(url, path)\n",
    "            tar_bz2_file = tarfile.open(path)\n",
    "            tar_bz2_file.extractall(path=spam_path)\n",
    "            tar_bz2_file.close()\n",
    "    return [spam_path / dir_name for dir_name in (\"easy_ham\", \"spam\")]"
   ]
  },
  {
   "cell_type": "code",
   "execution_count": 4,
   "id": "0ee69dcd",
   "metadata": {},
   "outputs": [
    {
     "name": "stdout",
     "output_type": "stream",
     "text": [
      "spam length: 501\n",
      "easy_ham length: 2501\n"
     ]
    }
   ],
   "source": [
    "def load_email(filepath):\n",
    "    with open(filepath, \"rb\") as f:\n",
    "        return email.parser.BytesParser(policy=email.policy.default).parse(f)\n",
    "    \n",
    "for i in file_names:\n",
    "    print(i + ' length: ' + str(len(file_names[i])))"
   ]
  },
  {
   "cell_type": "code",
   "execution_count": 5,
   "id": "dfde44fe",
   "metadata": {},
   "outputs": [],
   "source": [
    "# load emails\n",
    "ham = []\n",
    "spam = []\n",
    "\n",
    "for i in file_names['easy_ham']:\n",
    "    ham.append(load_email(downloads_path + 'easy_ham' + '/' + i))\n",
    "\n",
    "for i in file_names['spam']:\n",
    "    spam.append(load_email(downloads_path + 'spam' + '/' + i))"
   ]
  },
  {
   "cell_type": "code",
   "execution_count": 123,
   "id": "7c2fc83e",
   "metadata": {},
   "outputs": [
    {
     "ename": "AttributeError",
     "evalue": "module 'os' has no attribute 'Path'",
     "output_type": "error",
     "traceback": [
      "\u001b[0;31m---------------------------------------------------------------------------\u001b[0m",
      "\u001b[0;31mAttributeError\u001b[0m                            Traceback (most recent call last)",
      "Input \u001b[0;32mIn [123]\u001b[0m, in \u001b[0;36m<cell line: 2>\u001b[0;34m()\u001b[0m\n\u001b[1;32m      1\u001b[0m \u001b[38;5;66;03m# method 2\u001b[39;00m\n\u001b[0;32m----> 2\u001b[0m ham_dir, spam_dir \u001b[38;5;241m=\u001b[39m \u001b[43mfetch_spam_data\u001b[49m\u001b[43m(\u001b[49m\u001b[43m)\u001b[49m\n\u001b[1;32m      4\u001b[0m ham_filenames \u001b[38;5;241m=\u001b[39m [f \u001b[38;5;28;01mfor\u001b[39;00m f \u001b[38;5;129;01min\u001b[39;00m \u001b[38;5;28msorted\u001b[39m(ham_dir\u001b[38;5;241m.\u001b[39miterdir()) \u001b[38;5;28;01mif\u001b[39;00m \u001b[38;5;28mlen\u001b[39m(f\u001b[38;5;241m.\u001b[39mname) \u001b[38;5;241m>\u001b[39m \u001b[38;5;241m20\u001b[39m]\n\u001b[1;32m      5\u001b[0m spam_filenames \u001b[38;5;241m=\u001b[39m [f \u001b[38;5;28;01mfor\u001b[39;00m f \u001b[38;5;129;01min\u001b[39;00m \u001b[38;5;28msorted\u001b[39m(spam_dir\u001b[38;5;241m.\u001b[39miterdir()) \u001b[38;5;28;01mif\u001b[39;00m \u001b[38;5;28mlen\u001b[39m(f\u001b[38;5;241m.\u001b[39mname) \u001b[38;5;241m>\u001b[39m \u001b[38;5;241m20\u001b[39m]\n",
      "Input \u001b[0;32mIn [122]\u001b[0m, in \u001b[0;36mfetch_spam_data\u001b[0;34m()\u001b[0m\n\u001b[1;32m      6\u001b[0m ham_url \u001b[38;5;241m=\u001b[39m spam_root \u001b[38;5;241m+\u001b[39m \u001b[38;5;124m\"\u001b[39m\u001b[38;5;124m20030228_easy_ham.tar.bz2\u001b[39m\u001b[38;5;124m\"\u001b[39m\n\u001b[1;32m      7\u001b[0m spam_url \u001b[38;5;241m=\u001b[39m spam_root \u001b[38;5;241m+\u001b[39m \u001b[38;5;124m\"\u001b[39m\u001b[38;5;124m20030228_spam.tar.bz2\u001b[39m\u001b[38;5;124m\"\u001b[39m\n\u001b[0;32m----> 9\u001b[0m spam_path \u001b[38;5;241m=\u001b[39m \u001b[43mos\u001b[49m\u001b[38;5;241;43m.\u001b[39;49m\u001b[43mPath\u001b[49m() \u001b[38;5;241m/\u001b[39m \u001b[38;5;124m\"\u001b[39m\u001b[38;5;124mdatasets\u001b[39m\u001b[38;5;124m\"\u001b[39m \u001b[38;5;241m/\u001b[39m \u001b[38;5;124m\"\u001b[39m\u001b[38;5;124mspam\u001b[39m\u001b[38;5;124m\"\u001b[39m\n\u001b[1;32m     10\u001b[0m spam_path\u001b[38;5;241m.\u001b[39mmkdir(parents\u001b[38;5;241m=\u001b[39m\u001b[38;5;28;01mTrue\u001b[39;00m, exist_ok\u001b[38;5;241m=\u001b[39m\u001b[38;5;28;01mTrue\u001b[39;00m)\n\u001b[1;32m     11\u001b[0m \u001b[38;5;28;01mfor\u001b[39;00m dir_name, tar_name, url \u001b[38;5;129;01min\u001b[39;00m ((\u001b[38;5;124m\"\u001b[39m\u001b[38;5;124measy_ham\u001b[39m\u001b[38;5;124m\"\u001b[39m, \u001b[38;5;124m\"\u001b[39m\u001b[38;5;124mham\u001b[39m\u001b[38;5;124m\"\u001b[39m, ham_url),\n\u001b[1;32m     12\u001b[0m                                 (\u001b[38;5;124m\"\u001b[39m\u001b[38;5;124mspam\u001b[39m\u001b[38;5;124m\"\u001b[39m, \u001b[38;5;124m\"\u001b[39m\u001b[38;5;124mspam\u001b[39m\u001b[38;5;124m\"\u001b[39m, spam_url)):\n",
      "\u001b[0;31mAttributeError\u001b[0m: module 'os' has no attribute 'Path'"
     ]
    }
   ],
   "source": [
    "# method 2\n",
    "ham_dir, spam_dir = fetch_spam_data()\n",
    "\n",
    "ham_filenames = [f for f in sorted(ham_dir.iterdir()) if len(f.name) > 20]\n",
    "spam_filenames = [f for f in sorted(spam_dir.iterdir()) if len(f.name) > 20]"
   ]
  },
  {
   "cell_type": "code",
   "execution_count": 116,
   "id": "be2a27c7",
   "metadata": {},
   "outputs": [
    {
     "name": "stdout",
     "output_type": "stream",
     "text": [
      "At 10:34 AM -0700 on 8/28/02, Jim Whitehead wrote:\n",
      "\n",
      "\n",
      "> Great, this is half of what I'd need to become Spider Man! Now all I need to\n",
      "> figure out is how to do that spider web shooting thing.\n",
      "\n",
      "...That and be able to stick yourself upside down on a 20 foot ceiling from\n",
      "a standing jump...\n",
      "\n",
      "I remember someone recently doing the calculations in kilocalories required\n",
      "to be spiderman somewhere. Kind of like those flaming processor \"analyses\"\n",
      "done a couple of years ago...\n",
      "\n",
      "Cheers,\n",
      "RAH\n",
      "\n",
      "-- \n",
      "-----------------\n",
      "R. A. Hettinga <mailto: rah@ibuc.com>\n",
      "The Internet Bearer Underwriting Corporation <http://www.ibuc.com/>\n",
      "44 Farquhar Street, Boston, MA 02131 USA\n",
      "\"... however it may deserve respect for its usefulness and antiquity,\n",
      "[predicting the end of the world] has not been found agreeable to\n",
      "experience.\" -- Edward Gibbon, 'Decline and Fall of the Roman Empire'\n",
      ">Anyway I'm making good progress and my implementation works reasonably\n",
      ">well.  It now seems blindingly clear that we want a tightly-integrated\n",
      ">implementation of Naive Bayes spam/nonspam classification.  There are\n",
      ">still some things about how to do this right inside SA that I still am\n",
      ">figuring out.\n",
      ">\n",
      ">Dan\n",
      "\n",
      "This is very good news! Will this allow for individual spam word file\n",
      "preferences when spamassassin is running on a mailserver for multiple\n",
      "users? This would be an outstanding addition if it can be done. Thanks\n",
      "much for a great project.\n",
      "\n",
      "-- \n",
      "Regards,\n",
      "\n",
      "Eric Mings Ph.D.\n",
      "\n",
      "\n",
      "\n",
      "-------------------------------------------------------\n",
      "This sf.net email is sponsored by:ThinkGeek\n",
      "Welcome to geek heaven.\n",
      "http://thinkgeek.com/sf\n",
      "_______________________________________________\n",
      "Spamassassin-talk mailing list\n",
      "Spamassassin-talk@lists.sourceforge.net\n",
      "https://lists.sourceforge.net/lists/listinfo/spamassassin-talk\n",
      "Peter Peltonen wrote:\n",
      "> Sorry about that :) \n",
      "> \n",
      "> Didn't think before sending... So I didn't realize that Reply-To was to \n",
      "> the list and not to the sender (as it usually is). \n",
      "\n",
      "How about removing the reply-to to the list?\n",
      "\n",
      "\n",
      "_______________________________________________\n",
      "RPM-List mailing list <RPM-List@freshrpms.net>\n",
      "http://lists.freshrpms.net/mailman/listinfo/rpm-list\n",
      "On Fri, 04 Oct 2002 01:14:28 +0200\n",
      "Vincent <cult@free.fr> wrote:\n",
      "\n",
      "# Hello,\n",
      "# \n",
      "# I'm looking for the package k3b for the redhat 8.0, Does anyone know\n",
      "# \n",
      "# where to get it ? I tried to compile but it did an error message:\n",
      "\n",
      "I've been working on a .src.rpm for it.  Their rpm and spec file is\n",
      "very dirty, so I\"m cleaning it up.  I think I have all the build-req's\n",
      "and the install req's sorted out, but I need more testers.\n",
      "\n",
      "http://geek.j2solutions.net/rpms/k3b/\n",
      "\n",
      "Please try it.\n",
      "\n",
      "-- \n",
      "Jesse Keating\n",
      "j2Solutions.net\n",
      "Mondo DevTeam (www.mondorescue.org)\n",
      "\n",
      "Was I helpful?  Let others know:\n",
      " http://svcs.affero.net/rm.php?r=jkeating\n",
      "\n",
      "_______________________________________________\n",
      "RPM-List mailing list <RPM-List@freshrpms.net>\n",
      "http://lists.freshrpms.net/mailman/listinfo/rpm-list\n",
      "\"Bort, Paul\" <pbort@tmwsystems.com> wrote:\n",
      ">If your sendmail has been compiled with Milter support, you can add SMRazor\n",
      ">easily. We've been using it for a while without problems. Others on the list\n",
      ">have mentioned it as well.\n",
      ">\n",
      ">http://www.sapros.com/smrazor/\n",
      "\n",
      "Is there an easy way to tell if Milter is compiled in?\n",
      "\n",
      "-- \n",
      "Julian Bond Email&MSM: julian.bond@voidstar.com\n",
      "Webmaster:              http://www.ecademy.com/\n",
      "Personal WebLog:       http://www.voidstar.com/\n",
      "CV/Resume:          http://www.voidstar.com/cv/\n",
      "M: +44 (0)77 5907 2173   T: +44 (0)192 0412 433\n",
      "\n",
      "\n",
      "\n",
      "-------------------------------------------------------\n",
      "This sf.net email is sponsored by: OSDN - Tired of that same old\n",
      "cell phone?  Get a new here for FREE!\n",
      "https://www.inphonic.com/r.asp?r=sourceforge1&refcode1=vs3390\n",
      "_______________________________________________\n",
      "Razor-users mailing list\n",
      "Razor-users@lists.sourceforge.net\n",
      "https://lists.sourceforge.net/lists/listinfo/razor-users\n",
      "URL: http://www.oblomovka.com/entries/2002/09/24#1032870720\n",
      "Date: 2002-09-24T05:32:00-0700\n",
      "\n",
      "There are a few net innovations that have far greater ramifications than you \n",
      "would, at first hearing, expect them to. Napster, at heart just IRC with a UI, \n",
      "was one. Google News[1] is another. \n",
      "\n",
      "In its first day, I've already noticed: \n",
      "\n",
      "- The front page changes its editorial stance depending on where the earth's \n",
      "terminator[2] is. So in the evening on the West Coast, Google News is lead by \n",
      "the South China Morning Post, and various Asian english-language papers. By the \n",
      "late evening, the BBC and European papers are kicking in. \n",
      "- The site may be created by algorithms - but what about the choice of sites? \n",
      "The most arbitrary dividing line I see in Google's coverage is what is a news \n",
      "site, and what isn't. Slashdot[3] is, for instance, as well as some very \n",
      "obscure[4] newspapers. What about Blues News[5] or Scripting News[6], though? \n",
      "- Big companies spend mucho money paying \"clipping services\" that send them \n",
      "copies of any press coverage they receive. Clipping services are going to have \n",
      "to find some added value, very[7] very[8] quickly. \n",
      "\n",
      "[1] http://news.google.com/\n",
      "[2] http://www.concentric.net/~marsface/glossary.htm#sectT\n",
      "    The\n",
      "sunrise-sunset line dividing the day and night halves of the Moon or a\n",
      "planet.\n",
      "[3] http://www.slashdot.org/\n",
      "[4] http://www.eveningnews24.co.uk/\n",
      "[5] http://www.bluesnews.com/\n",
      "[6] http://www.scripting.com/\n",
      "[7] http://news.google.com/news?hl=en&q=%22Danny+O%27Brien%22&btnG=Google+Search\n",
      "[8] http://news.google.com/news?hl=en&q=www.ntk.net&btnG=Google+Search\n"
     ]
    }
   ],
   "source": [
    "for i in ham[4:10]:\n",
    "    print(i.get_content().strip())"
   ]
  },
  {
   "cell_type": "code",
   "execution_count": 117,
   "id": "4a33836b",
   "metadata": {},
   "outputs": [
    {
     "name": "stdout",
     "output_type": "stream",
     "text": [
      "Dear Homeowner,\n",
      " \n",
      "Interest Rates are at their lowest point in 40 years!\n",
      "\n",
      "We help you find the best rate for your situation by\n",
      "matching your needs with hundreds of lenders!\n",
      "\n",
      "Home Improvement, Refinance, Second Mortgage,\n",
      "Home Equity Loans, and More! Even with less than\n",
      "perfect credit!\n",
      "\n",
      "This service is 100% FREE to home owners and new\n",
      "home buyers without any obligation. \n",
      "\n",
      "Just fill out a quick, simple form and jump-start\n",
      "your future plans today!\n",
      "\n",
      "\n",
      "Visit http://61.145.116.186/user0201/index.asp?Afft=QM10\n",
      "\n",
      "\n",
      "\n",
      "\n",
      "\n",
      "\n",
      "To unsubscribe, please visit:\n",
      "\n",
      "http://61.145.116.186/light/watch.asp\n",
      "\n",
      "\n",
      "\n",
      "ATTENTION: This is a MUST for ALL Computer Users!!!\n",
      "\n",
      "*NEW-Special Package Deal!*\n",
      "\n",
      "Norton SystemWorks 2002 Software Suite -Professional Edition-\n",
      "\n",
      "Includes Six - Yes 6! - Feature-Packed Utilities\n",
      "ALL For 1 Special LOW Price!\n",
      "\n",
      "This Software Will:\n",
      "- Protect your computer from unwanted and hazardous viruses\n",
      "- Help secure your private & valuable information\n",
      "- Allow you to transfer files and send e-mails safely\n",
      "- Backup your ALL your data quick and easily\n",
      "- Improve your PC's performance w/superior integral diagnostics!\n",
      "\n",
      "6 Feature-Packed Utilities...1 Great Price!\n",
      "A $300+ Combined Retail Value!\n",
      "\n",
      "YOURS for Only $29.99!  <Includes FREE Shipping!>\n",
      "\n",
      "Don't fall prey to destructive viruses or hackers!\n",
      "Protect  your computer and your valuable information!\n",
      "\n",
      "\n",
      "So don't delay...get your copy TODAY!\n",
      "\n",
      "\n",
      "http://euro.specialdiscounts4u.com/\n",
      "++++++++++++++++++++++++++++++++++++++++++++++++++++++++++++++++++++++++++++\n",
      "This email has been screened and filtered by our in house \"\"OPT-OUT\"\" system in \n",
      "compliance with state laws. If you wish to \"OPT-OUT\" from this mailing as well \n",
      "as the lists of thousands  of other email providers please visit  \n",
      "\n",
      "http://dvd.specialdiscounts4u.com/optoutd.html\n",
      "++++++++++++++++++++++++++++++++++++++++++++++++++++++++++++++++++++++++++++\n",
      "\n",
      "\n",
      "\n"
     ]
    },
    {
     "ename": "KeyError",
     "evalue": "'multipart/alternative'",
     "output_type": "error",
     "traceback": [
      "\u001b[0;31m---------------------------------------------------------------------------\u001b[0m",
      "\u001b[0;31mKeyError\u001b[0m                                  Traceback (most recent call last)",
      "Input \u001b[0;32mIn [117]\u001b[0m, in \u001b[0;36m<cell line: 1>\u001b[0;34m()\u001b[0m\n\u001b[1;32m      1\u001b[0m \u001b[38;5;28;01mfor\u001b[39;00m i \u001b[38;5;129;01min\u001b[39;00m spam[\u001b[38;5;241m0\u001b[39m:\u001b[38;5;241m10\u001b[39m]:\n\u001b[0;32m----> 2\u001b[0m     \u001b[38;5;28mprint\u001b[39m(\u001b[43mi\u001b[49m\u001b[38;5;241;43m.\u001b[39;49m\u001b[43mget_content\u001b[49m\u001b[43m(\u001b[49m\u001b[43m)\u001b[49m)\n",
      "File \u001b[0;32m~/opt/anaconda3/lib/python3.9/email/message.py:1096\u001b[0m, in \u001b[0;36mMIMEPart.get_content\u001b[0;34m(self, content_manager, *args, **kw)\u001b[0m\n\u001b[1;32m   1094\u001b[0m \u001b[38;5;28;01mif\u001b[39;00m content_manager \u001b[38;5;129;01mis\u001b[39;00m \u001b[38;5;28;01mNone\u001b[39;00m:\n\u001b[1;32m   1095\u001b[0m     content_manager \u001b[38;5;241m=\u001b[39m \u001b[38;5;28mself\u001b[39m\u001b[38;5;241m.\u001b[39mpolicy\u001b[38;5;241m.\u001b[39mcontent_manager\n\u001b[0;32m-> 1096\u001b[0m \u001b[38;5;28;01mreturn\u001b[39;00m \u001b[43mcontent_manager\u001b[49m\u001b[38;5;241;43m.\u001b[39;49m\u001b[43mget_content\u001b[49m\u001b[43m(\u001b[49m\u001b[38;5;28;43mself\u001b[39;49m\u001b[43m,\u001b[49m\u001b[43m \u001b[49m\u001b[38;5;241;43m*\u001b[39;49m\u001b[43margs\u001b[49m\u001b[43m,\u001b[49m\u001b[43m \u001b[49m\u001b[38;5;241;43m*\u001b[39;49m\u001b[38;5;241;43m*\u001b[39;49m\u001b[43mkw\u001b[49m\u001b[43m)\u001b[49m\n",
      "File \u001b[0;32m~/opt/anaconda3/lib/python3.9/email/contentmanager.py:25\u001b[0m, in \u001b[0;36mContentManager.get_content\u001b[0;34m(self, msg, *args, **kw)\u001b[0m\n\u001b[1;32m     23\u001b[0m \u001b[38;5;28;01mif\u001b[39;00m \u001b[38;5;124m'\u001b[39m\u001b[38;5;124m'\u001b[39m \u001b[38;5;129;01min\u001b[39;00m \u001b[38;5;28mself\u001b[39m\u001b[38;5;241m.\u001b[39mget_handlers:\n\u001b[1;32m     24\u001b[0m     \u001b[38;5;28;01mreturn\u001b[39;00m \u001b[38;5;28mself\u001b[39m\u001b[38;5;241m.\u001b[39mget_handlers[\u001b[38;5;124m'\u001b[39m\u001b[38;5;124m'\u001b[39m](msg, \u001b[38;5;241m*\u001b[39margs, \u001b[38;5;241m*\u001b[39m\u001b[38;5;241m*\u001b[39mkw)\n\u001b[0;32m---> 25\u001b[0m \u001b[38;5;28;01mraise\u001b[39;00m \u001b[38;5;167;01mKeyError\u001b[39;00m(content_type)\n",
      "\u001b[0;31mKeyError\u001b[0m: 'multipart/alternative'"
     ]
    }
   ],
   "source": [
    "for i in spam[0:10]:\n",
    "    print(i.get_content())"
   ]
  },
  {
   "cell_type": "code",
   "execution_count": 8,
   "id": "a5935932",
   "metadata": {},
   "outputs": [],
   "source": [
    "def get_email_structure(email):\n",
    "    # is the instance an email?\n",
    "    if isinstance(email, str):\n",
    "        return email\n",
    "    \n",
    "    # payload breaks a multipart email up, returns content of a single part one\n",
    "    payload = email.get_payload()\n",
    "    if isinstance(payload, list):\n",
    "        multipart = \", \".join([get_email_structure(sub_email)\n",
    "                               for sub_email in payload])\n",
    "        return f\"multipart({multipart})\"\n",
    "    else:\n",
    "        return email.get_content_type()\n",
    "    \n",
    "def structures_counter(emails):\n",
    "    structures = Counter()\n",
    "    for email in emails:\n",
    "        structure = get_email_structure(email)\n",
    "        structures[structure] += 1\n",
    "    return structures\n"
   ]
  },
  {
   "cell_type": "code",
   "execution_count": 9,
   "id": "de92dfc2",
   "metadata": {},
   "outputs": [
    {
     "data": {
      "text/plain": [
       "[('text/plain', 2409),\n",
       " ('multipart(text/plain, application/pgp-signature)', 66),\n",
       " ('multipart(text/plain, text/html)', 8),\n",
       " ('multipart(text/plain, text/plain)', 4),\n",
       " ('multipart(text/plain)', 3),\n",
       " ('multipart(text/plain, application/octet-stream)', 2),\n",
       " ('multipart(text/plain, multipart(text/plain, text/plain), text/rfc822-headers)',\n",
       "  1),\n",
       " ('multipart(text/plain, multipart(text/plain, text/plain), multipart(multipart(text/plain, application/x-pkcs7-signature)))',\n",
       "  1),\n",
       " ('multipart(text/plain, application/x-java-applet)', 1),\n",
       " ('multipart(text/plain, text/enriched)', 1),\n",
       " ('multipart(multipart(text/plain, text/plain, text/plain), application/pgp-signature)',\n",
       "  1),\n",
       " ('multipart(text/plain, multipart(text/plain))', 1),\n",
       " ('multipart(text/plain, application/ms-tnef, text/plain)', 1),\n",
       " ('multipart(text/plain, video/mng)', 1),\n",
       " ('multipart(text/plain, application/x-pkcs7-signature)', 1)]"
      ]
     },
     "execution_count": 9,
     "metadata": {},
     "output_type": "execute_result"
    }
   ],
   "source": [
    "structures_counter(ham).most_common()"
   ]
  },
  {
   "cell_type": "code",
   "execution_count": 10,
   "id": "dbd775cc",
   "metadata": {},
   "outputs": [
    {
     "data": {
      "text/plain": [
       "[('text/plain', 219),\n",
       " ('text/html', 183),\n",
       " ('multipart(text/plain, text/html)', 45),\n",
       " ('multipart(text/html)', 20),\n",
       " ('multipart(text/plain)', 19),\n",
       " ('multipart(multipart(text/html))', 5),\n",
       " ('multipart(text/plain, image/jpeg)', 3),\n",
       " ('multipart(text/html, application/octet-stream)', 2),\n",
       " ('multipart(multipart(text/plain, text/html), image/gif)', 1),\n",
       " ('multipart/alternative', 1),\n",
       " ('multipart(text/plain, application/octet-stream)', 1),\n",
       " ('multipart(multipart(text/html), application/octet-stream, image/jpeg)', 1),\n",
       " ('multipart(text/html, text/plain)', 1)]"
      ]
     },
     "execution_count": 10,
     "metadata": {},
     "output_type": "execute_result"
    }
   ],
   "source": [
    "structures_counter(spam).most_common()"
   ]
  },
  {
   "cell_type": "code",
   "execution_count": 24,
   "id": "acae20bf",
   "metadata": {},
   "outputs": [
    {
     "data": {
      "text/plain": [
       "'<STYLE type=\"text/css\">\\n<!--\\nP{\\n  font-size : 12px;\\n  color : navy;\\n}\\n-->\\n</STYLE>\\n</HEAD>\\n<BODY>\\n<P>(Hello,This is Chinese Traditional)<BR>\\n</P>\\n<DIV style=\"width : 376px;height : 12px;top : 195px;left : 238px;\\n  position : absolute;\\n  z-index : 3;\\n  visibility : visible;\\n  background-color : lime;\\n\" id=\"Layer3\"></DIV>\\n<DIV style=\"width : 73px;height : 14px;top : 172px;left : 238px;\\n  position : absolute;\\n  z-index : 2;\\n  visibility : visible;\\n  background-color : olive;\\n\" id=\"Layer2\"></DIV>\\n<DIV style=\"width : 39px;height : 13px;top : 149px;left : 239px;\\n  position : absolute;\\n  z-index : 1;\\n  visibility : visible;\\n  background-color : silver;\\n\" id=\"Layer1\"></DIV>\\n<P>��子�]件 ――21世�o最有效的宣�鞣绞剑�<BR>\\n&nbsp; &nbsp;您想����地10�f人同一�r刻知道您的�V告�幔磕�想方便快捷的宣�髂�的企�I�幔�\\n<BR>\\n&nbsp; &nbsp;您想在商�I����中步步���紫��C�幔�\\n您想一次�碛����|����在商�I客���幔�<BR>\\n&nbsp; &nbsp;越�碓蕉嗟恼{查表明 ，�W路直�N����成��未���I�N方式的主流，而E-mail�⑹蔷W上�I�N最常用也是最��用的工具。<BR>\\n其特�c：�����V，�r效高，�r格低。��eMarketer估��，美��有61%的中等��模公司��常�\\\\用��子�]件�M行�I�N活�印�<BR>\\n<BR>\\n部分�V告媒�w平均回��率比�^ （Average Response\\nRate Ranges） <BR>\\n\\u3000 0.5-1% 普通横幅广告(banner ads) <BR>\\n<BR>\\n\\u3000 1-2% 普通信件(direct mail) <BR>\\n<BR>\\n\\u3000 10-15% ��子�]件(Email) <BR>\\n<BR>\\n<BR>\\n<B><FONT size=\"+1\" color=\"#ff0080\">一 [�]件出售] </FONT></B><BR>\\n<BR>\\n���I全球�]件地址： 每1000�f/500HK （���I全部9000�f/3600HK）\\n<BR>\\n���I香港�]件地址： 每10�f/400HK &nbsp; （���I香港全部325�f/5500HK）\\n&nbsp;<A href=\"http://www.jjyx.com/serve/hk1.txt\" target=\"_blank\" style=\"font-size : 21px;\"><B><FONT size=\"+1\" color=\"#ff0000\">free download</FONT></B></A><BR>\\n���I�_�赤]件地址： 每10�f/400HK &nbsp; （���I�_�橙�部201�f/4500HK）\\n&nbsp;<A href=\"http://www.jjyx.com/serve/wd/taiwan.txt\" target=\"_blank\" style=\"font-size : 21px;\"><B><FONT size=\"+1\" color=\"#ff0000\">free download</FONT></B></A><BR>\\n<BR>\\n<B><FONT size=\"+1\" color=\"#ff0080\" style=\"color : #0080ff;\"> &nbsp; &nbsp;[�]件�l送]</FONT></B><BR>\\n�V告�]件代理�l送： 每10�f/500HK 20�f起�l\\n（�蚀_率90%以上）<BR>\\n包周群�l： &nbsp; &nbsp; &nbsp; &nbsp; 一周60�f/2500HK\\n<BR>\\n&nbsp; &nbsp; &nbsp; &nbsp; &nbsp; &nbsp;\\n&nbsp; &nbsp; &nbsp; &nbsp;一周100�f/4000HK\\n（保�C�W站日�L��量提升2000以上）<BR>\\n包月群�l： &nbsp; &nbsp; &nbsp; &nbsp; 一月500�f/9500HK\\n（保�C�W站日�L��量提升5000以上） <BR>\\n<BR>\\n<B><FONT size=\"+1\" color=\"#ff8040\" style=\"color : #ff8040;\"> &nbsp; &nbsp;[�]件���w]</FONT></B><BR>\\n<SPAN lang=\"EN-US\" style=\"FONT-SIZE: 9pt; COLOR: #0000c4\"><SPAN style=\"COLOR: navy; mso-fareast-font-family: PMingLiU; mso-fareast-language: ZH-TW\">70</SPAN><SPAN lang=\"ZH-TW\" style=\"COLOR: navy; FONT-FAMILY: PMingLiU; mso-fareast-language: ZH-TW; mso-ascii-font-family: \\'Times New Roman\\'; mso-hansi-font-family: \\'Times New Roman\\'\">�N套群�l，搜索，�W路�l�衍��w</SPAN><SPAN style=\"COLOR: navy; mso-fareast-font-family: PMingLiU; mso-fareast-language: ZH-TW\">/2200</SPAN><SPAN lang=\"ZH-TW\" style=\"COLOR: navy; FONT-FAMILY: PMingLiU; mso-fareast-language: ZH-TW; mso-ascii-font-family: \\'Times New Roman\\'; mso-hansi-font-family: \\'Times New Roman\\'\">HK</SPAN></SPAN><SPAN lang=\"EN-US\" style=\"FONT-SIZE: 9pt; mso-fareast-font-family: PMingLiU; mso-fareast-language: ZH-TW\"> </SPAN><SPAN lang=\"ZH-TW\" style=\"FONT-SIZE: 9pt; FONT-FAMILY: PMingLiU; mso-fareast-language: ZH-TW; mso-ascii-font-family: \\'Times New Roman\\'; mso-hansi-font-family: \\'Times New Roman\\'\"></SPAN><SPAN lang=\"ZH-TW\" style=\"FONT-SIZE: 9pt\"></SPAN><SPAN lang=\"EN-US\" style=\"FONT-SIZE: 9pt\"></SPAN><SPAN lang=\"EN-US\" style=\"FONT-SIZE: 9pt; COLOR: #0000bf\"><SPAN lang=\"ZH-TW\" style=\"COLOR: navy; FONT-FAMILY: PMingLiU; mso-fareast-language: ZH-TW; mso-ascii-font-family: \\'Times New Roman\\'; mso-hansi-font-family: \\'Times New Roman\\'\"></SPAN><SPAN style=\"COLOR: navy; mso-fareast-font-family: PMingLiU; mso-fareast-language: ZH-TW\"></SPAN><SPAN lang=\"ZH-TW\" style=\"COLOR: navy; FONT-FAMILY: PMingLiU; mso-fareast-language: ZH-TW; mso-ascii-font-family: \\'Times New Roman\\'; mso-hansi-font-family: \\'Times New Roman\\'\">��你自己�碛幸惶淄晟频碾�子�]件群�l，搜索，�W路�l�严到y</SPAN></SPAN><BR>\\n有意者请来信联系：<A href=\"mailto:yhzx599@vip.sina.com\">yhzx599@vip.sina.com</A></P>\\n\\n\\n<P><BR>\\n<B><FONT size=\"+1\" color=\"#ff0000\">二 搜索引擎�]�缘顷� （超值服�眨�特惠�r2200\\nHK）</FONT></B><BR>\\n�y河之星�湍�登��全球6000��英文搜索引擎，�M200��中文搜索引擎。��你的�W站享�u全球。<BR>\\n<BR>\\n<BR>\\n<B>e-mail地址在各地�^的分���盗�</B><BR>\\n<BR>\\n香港――――――――――――――――――――――――――――――――32525642��\\n&nbsp;<A href=\"http://www.jjyx.com/serve/hk1.txt\" target=\"_blank\" style=\"font-size : 21px;\"><B><FONT size=\"+1\" color=\"#ff0000\">free download the sample</FONT></B></A><BR>\\n�_�场�―――――――――――――――――――――――――――――――20012356��\\n&nbsp;<A href=\"http://www.jjyx.com/serve/wd/taiwan.txt\" target=\"_blank\" style=\"font-size : 21px;\"><B><FONT size=\"+1\" color=\"#ff0000\">free download the sample</FONT></B></A><BR>\\n全球――――――――――――――――――――――――――――――――9000�f<BR>\\n<BR>\\n<BR>\\n<BR>\\n&nbsp; �y河之星�碛����韧馍��|��有效的email位址�Y料�欤�可以根��客�舻男枰�，在指定的地方，�^域,行�I���e等�傩酝斗烹�子�]件�V告。<BR>\\n如：你想��某地10�f人一天之��都知道你的�a品，�Y��。那麽�V告�]件投放就是你最好的解�Q方案，它的�r格是所有�髅��r格中最低，<BR>\\n但又是最有效的。�C遇每�r每刻都等待著你，也�S你正是用了�@�拥��髅菏侄危�而打垮了所有的�����κ帧Ｚs快行�影桑���你的企�I，<BR>\\n公司立即掌握商�I�髅降拿��}------�V告e-mail。�@是普通�麂N���I所不能比�M的。<BR>\\n<BR>\\n<BR>\\n<FONT size=\"+1\"><B>���M及付款方式：</B></FONT><BR>\\n本公司�氖戮W路�V告多年，宣�髁Χ任痪又���第四大�W路�V告商之一，<BR>\\n我��有�ｉT的技�g人�T和高速���I的服�障到y�氖麓隧�工作，必����您的企�I提供最迅捷、最有效、最�M意的服�铡�<BR>\\n<BR>\\n<BR>\\n<FONT size=\"+1\"><B>需求客�粽��c�暨@�Y（���M�]箱)<BR>\\n<A href=\"mailto:yhzx599@vip.sina.com\">yhzx599@vip.sina.com</A> （�硇耪�注明您需要的服�张c���M方式，我������快回�湍�。）</B></FONT><BR>\\n<BR>\\n<B><FONT size=\"+1\">港、澳、�_地�^付款方式（任何��家均可到��地�y行���R，2-3天到�ぃ�<BR>\\n需到��地�y行�k理���R <BR>\\nEnglish:<BR>\\n<BR>\\nBENIFICIARY CUSTOMER: &nbsp;wangjingjing<BR>\\nA/C BANK: &nbsp; &nbsp; &nbsp; &nbsp; &nbsp;\\n&nbsp; &nbsp;BANK OF CHINA MIANYANG BRANCH<BR>\\nA/C NO: &nbsp; &nbsp; &nbsp; &nbsp; &nbsp;\\n&nbsp; &nbsp; &nbsp;8209 9802 0003 158<BR>\\nBENIFICIARY\\'S TEL NO : 0816-6623109<BR>\\n<BR>\\n中文�φ眨�<BR>\\n收 款 人： 王晶晶<BR>\\n收款�y行： 中���y行�d��分行<BR>\\n�� &nbsp; &nbsp;��： 8209 9802 0003 158<BR>\\n收款人����：0816-6623109<BR>\\n<BR>\\n2-3天到�ぃ�款到後我���⒘⒓���您提供最�M意服�铡�<BR>\\n<BR>\\n�g迎�硇��黼��J�����M ����：0086-0816-6623109\\n</FONT><BR>\\n<BR>\\n<FONT size=\"+1\">�y河之星�W路�Y��有限公司<BR>\\n公司地址：中��大���d��<BR>\\nEMAIL：<A href=\"mailto:yhzx599@vip.sina.com\">yhzx599@vip.sina.com</A> <BR>\\n�J������：0086-0816-6623109 </FONT><BR>\\n<BR>\\n-----------------------------------------------------------------------------------------------------------------------------------<BR>\\n公司服���０福壕W路推�V �W站建�O �W路��名\\n�W��寄存 功能���得��Q空�g ���w�l展等，�r�X低廉，服�����|�g迎�硇��黼����M<BR>\\n-----------------------------------------------------------------------------------------------------------------------------------</B></P>\\n</BODY>\\n\\n\\n'"
      ]
     },
     "execution_count": 24,
     "metadata": {},
     "output_type": "execute_result"
    }
   ],
   "source": [
    "spam[6].get_content()"
   ]
  },
  {
   "cell_type": "code",
   "execution_count": 18,
   "id": "6ce9f59d",
   "metadata": {},
   "outputs": [
    {
     "name": "stderr",
     "output_type": "stream",
     "text": [
      "/var/folders/lt/rzwpnmgj5v58lhpqgl3x_9zr0000gq/T/ipykernel_59024/921167800.py:1: VisibleDeprecationWarning: Creating an ndarray from ragged nested sequences (which is a list-or-tuple of lists-or-tuples-or ndarrays with different lengths or shapes) is deprecated. If you meant to do this, you must specify 'dtype=object' when creating the ndarray.\n",
      "  X = np.array(ham + spam)\n"
     ]
    }
   ],
   "source": [
    "X = np.array(ham + spam)\n",
    "y = np.array([0]* len(ham) + [1]*len(spam))\n",
    "\n",
    "X_train, X_test, y_train, y_test = train_test_split(X, y, test_size = 0.3, random_state = 42)"
   ]
  },
  {
   "cell_type": "code",
   "execution_count": 246,
   "id": "71ec241f",
   "metadata": {},
   "outputs": [],
   "source": [
    "from bs4 import BeautifulSoup as bs\n",
    "import re\n",
    "from html import unescape\n",
    "\n",
    "\n",
    "def html_to_plain_text(html):\n",
    "    text = re.sub('<head.*?>.*?</head>', '', html, flags=re.M | re.S | re.I)\n",
    "    text = re.sub('<a\\s.*?>', ' HYPERLINK ', text, flags=re.M | re.S | re.I)\n",
    "    text = re.sub('<.*?>', '', text, flags=re.M | re.S)\n",
    "    text = re.sub(r'(\\s*\\n)+', '\\n', text, flags=re.M | re.S)\n",
    "    return unescape(text)\n",
    "    \n",
    "    \n",
    "def html_to_text_my_version(html):\n",
    "    dat = BeautifulSoup(html.get_content(), 'html.parser')\n",
    "    clean = dat.get_text().replace('\\n', ' ').replace('\\xa0', ' ').replace('\\t', ' ').replace('\\\\ ', ' ')\n",
    "    clean_links = re.sub('(http|ftp|https):\\/\\/([\\w_-]+(?:(?:\\.[\\w_-]+)+))([\\w.,@?^=%&:\\/~+#-]*[\\w@?^=%&\\/~+#-])',\n",
    "                         ' HYPERLINK ', clean, flags = re.M | re.S)\n",
    "    return clean_links"
   ]
  },
  {
   "cell_type": "code",
   "execution_count": 235,
   "id": "91a1e3ee",
   "metadata": {},
   "outputs": [
    {
     "data": {
      "text/plain": [
       "\"  Do you like Sexy Animals doing the wild thing? We have the super hot content on the Internet! This is the site you have heard about. Rated the number one adult site three years in a row! - Thousands of pics from hardcore fucking, and cum shots to pet on girl.  - Thousands videos  So what are you waiting for?  CLICK HERE   YOU MUST BE AT LEAST 18 TO ENTER!       You have received this advertisement because you have opted in  to receive  free adult internet offers and   specials through our affiliated websites. If you do not wish to receive  further emails or have received the   email in error you may opt-out of our database by clicking here:  CLICK HERE Please allow 24hours for removal. This e-mail is sent in compliance with the Information Exchange Promotion and Privacy Protection Act.   section 50 marked as 'Advertisement' with valid 'removal' instruction.     [NKIYs5]   \""
      ]
     },
     "execution_count": 235,
     "metadata": {},
     "output_type": "execute_result"
    }
   ],
   "source": [
    "# test parser for functionality - looks pretty good, we can move on to parsing the strings now\n",
    "html_emails = [i for i in X_train[y_train == 1] if get_email_structure(i) == 'text/html']\n",
    "#clean_emails = html_to_text_my_version(html_emails[33])\n",
    "#html_to_text_my_version(html_emails[10])\n",
    "html_to_text_my_version(html_emails[10])\n"
   ]
  },
  {
   "cell_type": "code",
   "execution_count": 278,
   "id": "99e6524b",
   "metadata": {},
   "outputs": [],
   "source": [
    "# how to extract information out of the strings?\n",
    "# im skipping a step - all of the emails need to be preprocessed. need to address multipart\n",
    "\n",
    "def clean_emails(email):\n",
    "    structure = get_email_structure(email)\n",
    "    if structure in ['text/html', 'text/plain']:\n",
    "        clean = html_to_text_my_version(email)\n",
    "        return clean\n",
    "    elif isinstance(structure, tuple):\n",
    "        parts = email.get_payload()\n",
    "        parsed = ' '.join([clean_emails(x) for x in parts])\n",
    "        clean_multi = ' '.join(parsed)\n",
    "        return clean_multi\n",
    "    \n",
    "        \n",
    "        "
   ]
  },
  {
   "cell_type": "code",
   "execution_count": 293,
   "id": "d5b02e7f",
   "metadata": {},
   "outputs": [
    {
     "ename": "LookupError",
     "evalue": "unknown encoding: DEFAULT",
     "output_type": "error",
     "traceback": [
      "\u001b[0;31m---------------------------------------------------------------------------\u001b[0m",
      "\u001b[0;31mLookupError\u001b[0m                               Traceback (most recent call last)",
      "Input \u001b[0;32mIn [293]\u001b[0m, in \u001b[0;36m<cell line: 1>\u001b[0;34m()\u001b[0m\n\u001b[0;32m----> 1\u001b[0m [clean_emails(x) \u001b[38;5;28;01mfor\u001b[39;00m x \u001b[38;5;129;01min\u001b[39;00m X_train]\n",
      "Input \u001b[0;32mIn [293]\u001b[0m, in \u001b[0;36m<listcomp>\u001b[0;34m(.0)\u001b[0m\n\u001b[0;32m----> 1\u001b[0m [\u001b[43mclean_emails\u001b[49m\u001b[43m(\u001b[49m\u001b[43mx\u001b[49m\u001b[43m)\u001b[49m \u001b[38;5;28;01mfor\u001b[39;00m x \u001b[38;5;129;01min\u001b[39;00m X_train]\n",
      "Input \u001b[0;32mIn [278]\u001b[0m, in \u001b[0;36mclean_emails\u001b[0;34m(email)\u001b[0m\n\u001b[1;32m      5\u001b[0m structure \u001b[38;5;241m=\u001b[39m get_email_structure(email)\n\u001b[1;32m      6\u001b[0m \u001b[38;5;28;01mif\u001b[39;00m structure \u001b[38;5;129;01min\u001b[39;00m [\u001b[38;5;124m'\u001b[39m\u001b[38;5;124mtext/html\u001b[39m\u001b[38;5;124m'\u001b[39m, \u001b[38;5;124m'\u001b[39m\u001b[38;5;124mtext/plain\u001b[39m\u001b[38;5;124m'\u001b[39m]:\n\u001b[0;32m----> 7\u001b[0m     clean \u001b[38;5;241m=\u001b[39m \u001b[43mhtml_to_text_my_version\u001b[49m\u001b[43m(\u001b[49m\u001b[43memail\u001b[49m\u001b[43m)\u001b[49m\n\u001b[1;32m      8\u001b[0m     \u001b[38;5;28;01mreturn\u001b[39;00m clean\n\u001b[1;32m      9\u001b[0m \u001b[38;5;28;01melif\u001b[39;00m \u001b[38;5;28misinstance\u001b[39m(structure, \u001b[38;5;28mtuple\u001b[39m):\n",
      "Input \u001b[0;32mIn [246]\u001b[0m, in \u001b[0;36mhtml_to_text_my_version\u001b[0;34m(html)\u001b[0m\n\u001b[1;32m     14\u001b[0m \u001b[38;5;28;01mdef\u001b[39;00m \u001b[38;5;21mhtml_to_text_my_version\u001b[39m(html):\n\u001b[0;32m---> 15\u001b[0m     dat \u001b[38;5;241m=\u001b[39m BeautifulSoup(\u001b[43mhtml\u001b[49m\u001b[38;5;241;43m.\u001b[39;49m\u001b[43mget_content\u001b[49m\u001b[43m(\u001b[49m\u001b[43m)\u001b[49m, \u001b[38;5;124m'\u001b[39m\u001b[38;5;124mhtml.parser\u001b[39m\u001b[38;5;124m'\u001b[39m)\n\u001b[1;32m     16\u001b[0m     clean \u001b[38;5;241m=\u001b[39m dat\u001b[38;5;241m.\u001b[39mget_text()\u001b[38;5;241m.\u001b[39mreplace(\u001b[38;5;124m'\u001b[39m\u001b[38;5;130;01m\\n\u001b[39;00m\u001b[38;5;124m'\u001b[39m, \u001b[38;5;124m'\u001b[39m\u001b[38;5;124m \u001b[39m\u001b[38;5;124m'\u001b[39m)\u001b[38;5;241m.\u001b[39mreplace(\u001b[38;5;124m'\u001b[39m\u001b[38;5;130;01m\\xa0\u001b[39;00m\u001b[38;5;124m'\u001b[39m, \u001b[38;5;124m'\u001b[39m\u001b[38;5;124m \u001b[39m\u001b[38;5;124m'\u001b[39m)\u001b[38;5;241m.\u001b[39mreplace(\u001b[38;5;124m'\u001b[39m\u001b[38;5;130;01m\\t\u001b[39;00m\u001b[38;5;124m'\u001b[39m, \u001b[38;5;124m'\u001b[39m\u001b[38;5;124m \u001b[39m\u001b[38;5;124m'\u001b[39m)\u001b[38;5;241m.\u001b[39mreplace(\u001b[38;5;124m'\u001b[39m\u001b[38;5;130;01m\\\\\u001b[39;00m\u001b[38;5;124m \u001b[39m\u001b[38;5;124m'\u001b[39m, \u001b[38;5;124m'\u001b[39m\u001b[38;5;124m \u001b[39m\u001b[38;5;124m'\u001b[39m)\n\u001b[1;32m     17\u001b[0m     clean_links \u001b[38;5;241m=\u001b[39m re\u001b[38;5;241m.\u001b[39msub(\u001b[38;5;124m'\u001b[39m\u001b[38;5;124m(http|ftp|https):\u001b[39m\u001b[38;5;124m\\\u001b[39m\u001b[38;5;124m/\u001b[39m\u001b[38;5;124m\\\u001b[39m\u001b[38;5;124m/([\u001b[39m\u001b[38;5;124m\\\u001b[39m\u001b[38;5;124mw_-]+(?:(?:\u001b[39m\u001b[38;5;124m\\\u001b[39m\u001b[38;5;124m.[\u001b[39m\u001b[38;5;124m\\\u001b[39m\u001b[38;5;124mw_-]+)+))([\u001b[39m\u001b[38;5;124m\\\u001b[39m\u001b[38;5;124mw.,@?^=\u001b[39m\u001b[38;5;124m%\u001b[39m\u001b[38;5;124m&:\u001b[39m\u001b[38;5;124m\\\u001b[39m\u001b[38;5;124m/~+#-]*[\u001b[39m\u001b[38;5;124m\\\u001b[39m\u001b[38;5;124mw@?^=\u001b[39m\u001b[38;5;124m%\u001b[39m\u001b[38;5;124m&\u001b[39m\u001b[38;5;124m\\\u001b[39m\u001b[38;5;124m/~+#-])\u001b[39m\u001b[38;5;124m'\u001b[39m,\n\u001b[1;32m     18\u001b[0m                          \u001b[38;5;124m'\u001b[39m\u001b[38;5;124m HYPERLINK \u001b[39m\u001b[38;5;124m'\u001b[39m, clean, flags \u001b[38;5;241m=\u001b[39m re\u001b[38;5;241m.\u001b[39mM \u001b[38;5;241m|\u001b[39m re\u001b[38;5;241m.\u001b[39mS)\n",
      "File \u001b[0;32m~/opt/anaconda3/lib/python3.9/email/message.py:1096\u001b[0m, in \u001b[0;36mMIMEPart.get_content\u001b[0;34m(self, content_manager, *args, **kw)\u001b[0m\n\u001b[1;32m   1094\u001b[0m \u001b[38;5;28;01mif\u001b[39;00m content_manager \u001b[38;5;129;01mis\u001b[39;00m \u001b[38;5;28;01mNone\u001b[39;00m:\n\u001b[1;32m   1095\u001b[0m     content_manager \u001b[38;5;241m=\u001b[39m \u001b[38;5;28mself\u001b[39m\u001b[38;5;241m.\u001b[39mpolicy\u001b[38;5;241m.\u001b[39mcontent_manager\n\u001b[0;32m-> 1096\u001b[0m \u001b[38;5;28;01mreturn\u001b[39;00m \u001b[43mcontent_manager\u001b[49m\u001b[38;5;241;43m.\u001b[39;49m\u001b[43mget_content\u001b[49m\u001b[43m(\u001b[49m\u001b[38;5;28;43mself\u001b[39;49m\u001b[43m,\u001b[49m\u001b[43m \u001b[49m\u001b[38;5;241;43m*\u001b[39;49m\u001b[43margs\u001b[49m\u001b[43m,\u001b[49m\u001b[43m \u001b[49m\u001b[38;5;241;43m*\u001b[39;49m\u001b[38;5;241;43m*\u001b[39;49m\u001b[43mkw\u001b[49m\u001b[43m)\u001b[49m\n",
      "File \u001b[0;32m~/opt/anaconda3/lib/python3.9/email/contentmanager.py:22\u001b[0m, in \u001b[0;36mContentManager.get_content\u001b[0;34m(self, msg, *args, **kw)\u001b[0m\n\u001b[1;32m     20\u001b[0m maintype \u001b[38;5;241m=\u001b[39m msg\u001b[38;5;241m.\u001b[39mget_content_maintype()\n\u001b[1;32m     21\u001b[0m \u001b[38;5;28;01mif\u001b[39;00m maintype \u001b[38;5;129;01min\u001b[39;00m \u001b[38;5;28mself\u001b[39m\u001b[38;5;241m.\u001b[39mget_handlers:\n\u001b[0;32m---> 22\u001b[0m     \u001b[38;5;28;01mreturn\u001b[39;00m \u001b[38;5;28;43mself\u001b[39;49m\u001b[38;5;241;43m.\u001b[39;49m\u001b[43mget_handlers\u001b[49m\u001b[43m[\u001b[49m\u001b[43mmaintype\u001b[49m\u001b[43m]\u001b[49m\u001b[43m(\u001b[49m\u001b[43mmsg\u001b[49m\u001b[43m,\u001b[49m\u001b[43m \u001b[49m\u001b[38;5;241;43m*\u001b[39;49m\u001b[43margs\u001b[49m\u001b[43m,\u001b[49m\u001b[43m \u001b[49m\u001b[38;5;241;43m*\u001b[39;49m\u001b[38;5;241;43m*\u001b[39;49m\u001b[43mkw\u001b[49m\u001b[43m)\u001b[49m\n\u001b[1;32m     23\u001b[0m \u001b[38;5;28;01mif\u001b[39;00m \u001b[38;5;124m'\u001b[39m\u001b[38;5;124m'\u001b[39m \u001b[38;5;129;01min\u001b[39;00m \u001b[38;5;28mself\u001b[39m\u001b[38;5;241m.\u001b[39mget_handlers:\n\u001b[1;32m     24\u001b[0m     \u001b[38;5;28;01mreturn\u001b[39;00m \u001b[38;5;28mself\u001b[39m\u001b[38;5;241m.\u001b[39mget_handlers[\u001b[38;5;124m'\u001b[39m\u001b[38;5;124m'\u001b[39m](msg, \u001b[38;5;241m*\u001b[39margs, \u001b[38;5;241m*\u001b[39m\u001b[38;5;241m*\u001b[39mkw)\n",
      "File \u001b[0;32m~/opt/anaconda3/lib/python3.9/email/contentmanager.py:67\u001b[0m, in \u001b[0;36mget_text_content\u001b[0;34m(msg, errors)\u001b[0m\n\u001b[1;32m     65\u001b[0m content \u001b[38;5;241m=\u001b[39m msg\u001b[38;5;241m.\u001b[39mget_payload(decode\u001b[38;5;241m=\u001b[39m\u001b[38;5;28;01mTrue\u001b[39;00m)\n\u001b[1;32m     66\u001b[0m charset \u001b[38;5;241m=\u001b[39m msg\u001b[38;5;241m.\u001b[39mget_param(\u001b[38;5;124m'\u001b[39m\u001b[38;5;124mcharset\u001b[39m\u001b[38;5;124m'\u001b[39m, \u001b[38;5;124m'\u001b[39m\u001b[38;5;124mASCII\u001b[39m\u001b[38;5;124m'\u001b[39m)\n\u001b[0;32m---> 67\u001b[0m \u001b[38;5;28;01mreturn\u001b[39;00m \u001b[43mcontent\u001b[49m\u001b[38;5;241;43m.\u001b[39;49m\u001b[43mdecode\u001b[49m\u001b[43m(\u001b[49m\u001b[43mcharset\u001b[49m\u001b[43m,\u001b[49m\u001b[43m \u001b[49m\u001b[43merrors\u001b[49m\u001b[38;5;241;43m=\u001b[39;49m\u001b[43merrors\u001b[49m\u001b[43m)\u001b[49m\n",
      "\u001b[0;31mLookupError\u001b[0m: unknown encoding: DEFAULT"
     ]
    }
   ],
   "source": [
    "# stalling on the encoding issue - going to stop here and pick this up tomorrow.\n",
    "# will do linear algebra in the AM before coming back to this! \n",
    "[clean_emails(x) for x in X_train]"
   ]
  },
  {
   "cell_type": "code",
   "execution_count": null,
   "id": "db02c544",
   "metadata": {},
   "outputs": [],
   "source": [
    "# next up is figuring out how to extract information from the text. first, we'll need to stem to minimize noise\n",
    "# in the data and set us up for "
   ]
  }
 ],
 "metadata": {
  "kernelspec": {
   "display_name": "Python 3 (ipykernel)",
   "language": "python",
   "name": "python3"
  },
  "language_info": {
   "codemirror_mode": {
    "name": "ipython",
    "version": 3
   },
   "file_extension": ".py",
   "mimetype": "text/x-python",
   "name": "python",
   "nbconvert_exporter": "python",
   "pygments_lexer": "ipython3",
   "version": "3.9.12"
  }
 },
 "nbformat": 4,
 "nbformat_minor": 5
}
