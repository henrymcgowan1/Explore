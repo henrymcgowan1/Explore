{
 "cells": [
  {
   "cell_type": "code",
   "execution_count": 125,
   "id": "b44bb112",
   "metadata": {},
   "outputs": [
    {
     "data": {
      "text/plain": [
       "'/Users/henry.mcgowan/Desktop/Coding'"
      ]
     },
     "execution_count": 125,
     "metadata": {},
     "output_type": "execute_result"
    }
   ],
   "source": [
    "import os\n",
    "import pandas as pd\n",
    "import numpy as np\n",
    "from matplotlib.pyplot import figure\n",
    "import matplotlib.pyplot as plt\n",
    "from sklearn import metrics\n",
    "import sklearn.preprocessing as proc\n",
    "from sklearn.model_selection import train_test_split, RepeatedStratifiedKFold, cross_validate, GridSearchCV\n",
    "from sklearn.datasets import fetch_openml\n",
    "from sklearn.discriminant_analysis import LinearDiscriminantAnalysis\n",
    "from sklearn.ensemble import RandomForestClassifier, GradientBoostingClassifier, ExtraTreesClassifier\n",
    "from sklearn.linear_model import RidgeClassifier\n",
    "from sklearn.neighbors import KNeighborsClassifier\n",
    "import time\n",
    "\n",
    "os.getcwd()"
   ]
  },
  {
   "cell_type": "code",
   "execution_count": 5,
   "id": "746d7c31",
   "metadata": {},
   "outputs": [],
   "source": [
    "mnist = fetch_openml(name = 'mnist_784', version = 1)"
   ]
  },
  {
   "cell_type": "code",
   "execution_count": 6,
   "id": "f3806889",
   "metadata": {},
   "outputs": [
    {
     "data": {
      "text/plain": [
       "dict_keys(['data', 'target', 'frame', 'categories', 'feature_names', 'target_names', 'DESCR', 'details', 'url'])"
      ]
     },
     "execution_count": 6,
     "metadata": {},
     "output_type": "execute_result"
    }
   ],
   "source": [
    "mnist.keys()"
   ]
  },
  {
   "cell_type": "code",
   "execution_count": 16,
   "id": "76007529",
   "metadata": {},
   "outputs": [],
   "source": [
    "X, y = np.array(mnist['data']), np.array(mnist['target'])"
   ]
  },
  {
   "cell_type": "code",
   "execution_count": 22,
   "id": "ebda90db",
   "metadata": {},
   "outputs": [
    {
     "data": {
      "text/plain": [
       "(70000, 784)"
      ]
     },
     "execution_count": 22,
     "metadata": {},
     "output_type": "execute_result"
    }
   ],
   "source": [
    "X.shape"
   ]
  },
  {
   "cell_type": "code",
   "execution_count": 38,
   "id": "843cfa3c",
   "metadata": {},
   "outputs": [],
   "source": [
    "y = y.astype('int')"
   ]
  },
  {
   "cell_type": "code",
   "execution_count": 30,
   "id": "3d700200",
   "metadata": {},
   "outputs": [],
   "source": [
    "instance = X[5].reshape(28, 28)"
   ]
  },
  {
   "cell_type": "code",
   "execution_count": 33,
   "id": "ca8340eb",
   "metadata": {},
   "outputs": [
    {
     "data": {
      "text/plain": [
       "<matplotlib.image.AxesImage at 0x7faa39365610>"
      ]
     },
     "execution_count": 33,
     "metadata": {},
     "output_type": "execute_result"
    },
    {
     "data": {
      "image/png": "[encoded data removed]",
      "text/plain": [
       "<Figure size 432x288 with 1 Axes>"
      ]
     },
     "metadata": {
      "needs_background": "light"
     },
     "output_type": "display_data"
    }
   ],
   "source": [
    "plt.imshow(instance, cmap = 'binary')"
   ]
  },
  {
   "cell_type": "code",
   "execution_count": 70,
   "id": "edda563c",
   "metadata": {},
   "outputs": [],
   "source": [
    "# split training and test\n",
    "X_train, X_test, y_train, y_test = X[0: 60000], X[60000:], y[0: 60000], y[60000:]"
   ]
  },
  {
   "cell_type": "code",
   "execution_count": 71,
   "id": "765807ed",
   "metadata": {},
   "outputs": [],
   "source": [
    "y_train_3 = y_train == 3\n",
    "y_test_3 = y_test == 3"
   ]
  },
  {
   "cell_type": "code",
   "execution_count": 72,
   "id": "71308ade",
   "metadata": {},
   "outputs": [
    {
     "data": {
      "text/plain": [
       "RidgeClassifier()"
      ]
     },
     "execution_count": 72,
     "metadata": {},
     "output_type": "execute_result"
    }
   ],
   "source": [
    "LDA = LinearDiscriminantAnalysis()\n",
    "RF = RandomForestClassifier()\n",
    "Ridge = RidgeClassifier()\n",
    "\n",
    "LDA.fit(X_train, y_train_3)\n",
    "RF.fit(X_train, y_train_3)\n",
    "Ridge.fit(X_train, y_train_3)"
   ]
  },
  {
   "cell_type": "code",
   "execution_count": 73,
   "id": "3a7ef488",
   "metadata": {},
   "outputs": [],
   "source": [
    "LDA_pred = LDA.predict(X_test)\n",
    "RF_pred = RF.predict(X_test)\n",
    "Ridge_pred = Ridge.predict(X_test)"
   ]
  },
  {
   "cell_type": "code",
   "execution_count": 79,
   "id": "350162eb",
   "metadata": {},
   "outputs": [
    {
     "name": "stdout",
     "output_type": "stream",
     "text": [
      "0.9655\n",
      "0.9871\n",
      "0.9602\n"
     ]
    }
   ],
   "source": [
    "print(metrics.accuracy_score(y_test_3, LDA_pred))\n",
    "print(metrics.accuracy_score(y_test_3, RF_pred))\n",
    "print(metrics.accuracy_score(y_test_3, Ridge_pred))"
   ]
  },
  {
   "cell_type": "code",
   "execution_count": 130,
   "id": "9f77c214",
   "metadata": {},
   "outputs": [
    {
     "name": "stdout",
     "output_type": "stream",
     "text": [
      "Finished CV for GradientBoostingClassifier()in 14830.7 seconds\n",
      "Finished CV for KNeighborsClassifier()in 807.2 seconds\n",
      "Finished CV for ExtraTreesClassifier()in 151.4 seconds\n"
     ]
    }
   ],
   "source": [
    "# Multi-Class Model\n",
    "models = [LinearDiscriminantAnalysis(), RandomForestClassifier(), RidgeClassifier()]\n",
    "\n",
    "models_2 = [GradientBoostingClassifier(), KNeighborsClassifier(), ExtraTreesClassifier()]\n",
    "\n",
    "cross_validation_results = {}\n",
    "cross_validation_results_round2 = {}\n",
    "\n",
    "for i in models_2: \n",
    "    start = time.time()\n",
    "    model_instance = i\n",
    "    folds = RepeatedStratifiedKFold(n_splits = 5, n_repeats = 2)\n",
    "    cross_validation_results_round2[str(i).removesuffix('()')] = cross_validate(model_instance, X_train, y_train, scoring = 'accuracy',\n",
    "                                                    cv = folds, return_train_score = True)\n",
    "    end = time.time()\n",
    "    print('Finished CV for {model}'.format(model = i) + 'in {runtime}'.format(runtime = round(end - start, 1)) + ' seconds')\n",
    "\n",
    "# good lesson here - batch gradient descent is SLOW"
   ]
  },
  {
   "cell_type": "code",
   "execution_count": 122,
   "id": "4f58af5e",
   "metadata": {},
   "outputs": [
    {
     "name": "stdout",
     "output_type": "stream",
     "text": [
      "LinearDiscriminantAnalysis Test Set Accuracy: 0.864 Training Set Accuracy: 0.872\n",
      "RandomForestClassifier Test Set Accuracy: 0.968 Training Set Accuracy: 1.0\n",
      "RidgeClassifier Test Set Accuracy: 0.85 Training Set Accuracy: 0.858\n"
     ]
    }
   ],
   "source": [
    "# first set of models - interesting that LDA and Ridge deteroriated in performance versus binary whereas RF improved\n",
    "for i in cross_validation_results:\n",
    "    print('{Model} Test Set Accuracy: '.format(Model = i) + str(round(cross_validation_results[i]['test_score'].mean(), 3)), \n",
    "          'Training Set Accuracy: ' + str(round(cross_validation_results[i]['train_score'].mean(), 3)) )"
   ]
  },
  {
   "cell_type": "code",
   "execution_count": 132,
   "id": "ec0a76df",
   "metadata": {},
   "outputs": [
    {
     "name": "stdout",
     "output_type": "stream",
     "text": [
      "GradientBoostingClassifier Test Set Accuracy: 0.944 Training Set Accuracy: 0.964\n",
      "KNeighborsClassifier Test Set Accuracy: 0.971 Training Set Accuracy: 0.98\n",
      "ExtraTreesClassifier Test Set Accuracy: 0.971 Training Set Accuracy: 1.0\n"
     ]
    }
   ],
   "source": [
    "# second set of models \n",
    "for i in cross_validation_results_round2:\n",
    "    print('{Model} Test Set Accuracy: '.format(Model = i) + str(round(cross_validation_results_round2[i]['test_score'].mean(), 3)), \n",
    "          'Training Set Accuracy: ' + str(round(cross_validation_results_round2[i]['train_score'].mean(), 3)) )"
   ]
  },
  {
   "cell_type": "code",
   "execution_count": null,
   "id": "59c0424c",
   "metadata": {},
   "outputs": [],
   "source": [
    "\n"
   ]
  }
 ],
 "metadata": {
  "kernelspec": {
   "display_name": "Python 3 (ipykernel)",
   "language": "python",
   "name": "python3"
  },
  "language_info": {
   "codemirror_mode": {
    "name": "ipython",
    "version": 3
   },
   "file_extension": ".py",
   "mimetype": "text/x-python",
   "name": "python",
   "nbconvert_exporter": "python",
   "pygments_lexer": "ipython3",
   "version": "3.9.12"
  }
 },
 "nbformat": 4,
 "nbformat_minor": 5
}
